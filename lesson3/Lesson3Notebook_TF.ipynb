{
  "nbformat": 4,
  "nbformat_minor": 0,
  "metadata": {
    "colab": {
      "name": "Lesson3Notebook_TF.ipynb",
      "provenance": [],
      "collapsed_sections": []
    },
    "kernelspec": {
      "name": "python3",
      "display_name": "Python 3"
    },
    "accelerator": "GPU"
  },
  "cells": [
    {
      "cell_type": "markdown",
      "metadata": {
        "id": "BLC26D2ZeGeU",
        "colab_type": "text"
      },
      "source": [
        "# Imports and Downloading Intel OpenVINO"
      ]
    },
    {
      "cell_type": "code",
      "metadata": {
        "id": "_5iuIytuOlQC",
        "colab_type": "code",
        "colab": {}
      },
      "source": [
        "!apt update\n",
        "!apt install pciutils apt-file libcairo2-dev libpango1.0-dev libgtk2.0-dev\n",
        "!pip install imgaug==0.2.6\n",
        "!/usr/bin/lspci\n",
        "!cat /proc/cpuinfo\n",
        "!cat /proc/meminfo\n",
        "!nvidia-smi"
      ],
      "execution_count": 0,
      "outputs": []
    },
    {
      "cell_type": "code",
      "metadata": {
        "id": "sbougqrjBV2l",
        "colab_type": "code",
        "colab": {}
      },
      "source": [
        "!wget \"https://storage.googleapis.com/open_vino_public/openvino_initialization_script.py\"\n",
        "!python openvino_initialization_script.py"
      ],
      "execution_count": 0,
      "outputs": []
    },
    {
      "cell_type": "code",
      "metadata": {
        "id": "2TVgXU09D9Ak",
        "colab_type": "code",
        "colab": {}
      },
      "source": [
        "install_dir = \"/opt/intel/openvino/\"\n",
        "model_optimizer = \"/opt/intel/openvino/deployment_tools/model_optimizer/\"\n",
        "deployment_tools = \"/opt/intel/openvino/deployment_tools/\""
      ],
      "execution_count": 0,
      "outputs": []
    },
    {
      "cell_type": "markdown",
      "metadata": {
        "id": "37h6Rxhoavak",
        "colab_type": "text"
      },
      "source": [
        "# Choosing Models and Downloading them\n",
        "\n",
        "-  Downloading\n",
        "\n",
        "- \n",
        "[Object Detection Model](http://download.tensorflow.org/models/object_detection/ssd_mobilenet_v2_coco_2018_03_29.tar.gz)\n"
      ]
    },
    {
      "cell_type": "code",
      "metadata": {
        "id": "cbGF9Kq15Awk",
        "colab_type": "code",
        "colab": {}
      },
      "source": [
        "# fetching model's tar.gz file from tensorflow.org (It's a frozen graph model)\n",
        "!wget 'http://download.tensorflow.org/models/object_detection/ssd_mobilenet_v2_coco_2018_03_29.tar.gz'"
      ],
      "execution_count": 0,
      "outputs": []
    },
    {
      "cell_type": "code",
      "metadata": {
        "id": "g1adN95XPQzv",
        "colab_type": "code",
        "colab": {}
      },
      "source": [
        "# Unpacking the downloaded model's tar.gz file into the tensorflow directory\n",
        "!tar -xvf 'ssd_mobilenet_v2_coco_2018_03_29.tar.gz'"
      ],
      "execution_count": 0,
      "outputs": []
    },
    {
      "cell_type": "code",
      "metadata": {
        "id": "JK4qoGdL9Yb8",
        "colab_type": "code",
        "colab": {}
      },
      "source": [
        "# Checking the files present in the tensorflow directory\n",
        "ls"
      ],
      "execution_count": 0,
      "outputs": []
    },
    {
      "cell_type": "code",
      "metadata": {
        "id": "hK7SgF9t9bKJ",
        "colab_type": "code",
        "colab": {}
      },
      "source": [
        "# Moving into the ssd_mobilenet_v2_coco_2018_03_29 directory\n",
        "model_dir = \"/content/ssd_mobilenet_v2_coco_2018_03_29\""
      ],
      "execution_count": 0,
      "outputs": []
    },
    {
      "cell_type": "code",
      "metadata": {
        "id": "-gHVz6dY9dd2",
        "colab_type": "code",
        "colab": {}
      },
      "source": [
        "# listing all the files present in the ssd_mobilenet_v2_coco_2018_03_29 directory\n",
        "!ls $model_dir"
      ],
      "execution_count": 0,
      "outputs": []
    },
    {
      "cell_type": "markdown",
      "metadata": {
        "id": "fRr1cc_0eiEl",
        "colab_type": "text"
      },
      "source": [
        "# Conversion Code"
      ]
    },
    {
      "cell_type": "code",
      "metadata": {
        "id": "Ooubjobj4_5C",
        "colab_type": "code",
        "colab": {}
      },
      "source": [
        "!python $model_optimizer'mo.py' --input_model $model_dir'/frozen_inference_graph.pb' --tensorflow_object_detection_api_pipeline_config $model_dir'/pipeline.config' --reverse_input_channels --tensorflow_use_custom_operations_config $model_optimizer'/extensions/front/tf/ssd_v2_support.json' "
      ],
      "execution_count": 0,
      "outputs": []
    },
    {
      "cell_type": "code",
      "metadata": {
        "id": "8NfxWHjb_mXW",
        "colab_type": "code",
        "colab": {}
      },
      "source": [
        "# both frozen_inference_graph.xml and frozen_inference_graph.bin are present in the default /content directory.\n",
        "# you can access them by opening the left pane and clicking on the folder shaped icon\n",
        "ls"
      ],
      "execution_count": 0,
      "outputs": []
    }
  ]
}