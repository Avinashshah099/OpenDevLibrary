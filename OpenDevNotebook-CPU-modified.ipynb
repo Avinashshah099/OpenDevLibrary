{
  "nbformat": 4,
  "nbformat_minor": 0,
  "metadata": {
    "colab": {
      "name": "OpenVINO-ColabNotebook.ipynb",
      "provenance": [],
      "collapsed_sections": [],
      "toc_visible": true
    },
    "kernelspec": {
      "name": "python3",
      "display_name": "Python 3"
    },
    "accelerator": "GPU"
  },
  "cells": [
    {
      "cell_type": "code",
      "metadata": {
        "id": "9euq-FePrRaP",
        "colab_type": "code",
        "colab": {}
      },
      "source": [
        "from google.colab import drive\n",
        "drive.mount('/content/drive')"
      ],
      "execution_count": 0,
      "outputs": []
    },
    {
      "cell_type": "code",
      "metadata": {
        "id": "r3GojvB1rfxG",
        "colab_type": "code",
        "colab": {}
      },
      "source": [
        "file_name = \"l_openvino_toolkit_p_2020.1.023.tgz\" #change the filename\n",
        "dir_name = file_name[:-4]\n",
        "!cp /content/drive/\"My Drive\"/openvino/$file_name .\n",
        "!tar -xvzf l_openvino_toolkit_p_2020.1.023.tgz"
      ],
      "execution_count": 0,
      "outputs": []
    },
    {
      "cell_type": "code",
      "metadata": {
        "id": "qChhZLHPktNT",
        "colab_type": "code",
        "colab": {}
      },
      "source": [
        "!sudo -E $dir_name/install_openvino_dependencies.sh"
      ],
      "execution_count": 0,
      "outputs": []
    },
    {
      "cell_type": "code",
      "metadata": {
        "id": "_nr7s6nlXjAQ",
        "colab_type": "code",
        "colab": {}
      },
      "source": [
        "!sudo -E ./install_openvino_dependencies.sh"
      ],
      "execution_count": 0,
      "outputs": []
    },
    {
      "cell_type": "code",
      "metadata": {
        "id": "nwvSYhq7Xd9Q",
        "colab_type": "code",
        "colab": {}
      },
      "source": [
        "!sudo ./install.sh\n",
        "install_dir = \"/opt/intel/openvino/\""
      ],
      "execution_count": 0,
      "outputs": []
    },
    {
      "cell_type": "code",
      "metadata": {
        "id": "zBB1gSb_X5lO",
        "colab_type": "code",
        "colab": {}
      },
      "source": [
        "!source /opt/intel/openvino/bin/setupvars.sh\n",
        "#approx. 27 space bar hits\n",
        "#typing accept\n",
        "#option 2 selected"
      ],
      "execution_count": 0,
      "outputs": []
    },
    {
      "cell_type": "code",
      "metadata": {
        "id": "VbRHDO9okoWk",
        "colab_type": "code",
        "colab": {}
      },
      "source": [
        "cd /opt/intel/openvino/deployment_tools/model_optimizer/install_prerequisites"
      ],
      "execution_count": 0,
      "outputs": []
    },
    {
      "cell_type": "code",
      "metadata": {
        "id": "7R0gf21AkuYR",
        "colab_type": "code",
        "colab": {}
      },
      "source": [
        "!sudo ./install_prerequisites.sh"
      ],
      "execution_count": 0,
      "outputs": []
    },
    {
      "cell_type": "code",
      "metadata": {
        "id": "osBTX5gokxXb",
        "colab_type": "code",
        "colab": {}
      },
      "source": [
        "cd /opt/intel/openvino/deployment_tools/model_optimizer/install_prerequisites"
      ],
      "execution_count": 0,
      "outputs": []
    },
    {
      "cell_type": "code",
      "metadata": {
        "id": "Eys3tefjlMjc",
        "colab_type": "code",
        "colab": {}
      },
      "source": [
        "!sudo ./install_prerequisites_caffe.sh"
      ],
      "execution_count": 0,
      "outputs": []
    },
    {
      "cell_type": "code",
      "metadata": {
        "id": "Gq8_f-gclPoK",
        "colab_type": "code",
        "colab": {}
      },
      "source": [
        "!sudo ./install_prerequisites_tf.sh"
      ],
      "execution_count": 0,
      "outputs": []
    },
    {
      "cell_type": "code",
      "metadata": {
        "id": "fz3w-7aDlUg8",
        "colab_type": "code",
        "colab": {}
      },
      "source": [
        "!sudo ./install_prerequisites_mxnet.sh"
      ],
      "execution_count": 0,
      "outputs": []
    },
    {
      "cell_type": "code",
      "metadata": {
        "id": "AhMM20iwlW_Z",
        "colab_type": "code",
        "colab": {}
      },
      "source": [
        "!sudo ./install_prerequisites_onnx.sh"
      ],
      "execution_count": 0,
      "outputs": []
    },
    {
      "cell_type": "code",
      "metadata": {
        "id": "EHCfY__LlZT4",
        "colab_type": "code",
        "colab": {}
      },
      "source": [
        "!sudo ./install_prerequisites_kaldi.sh"
      ],
      "execution_count": 0,
      "outputs": []
    },
    {
      "cell_type": "code",
      "metadata": {
        "id": "BB11uWn6ldNp",
        "colab_type": "code",
        "colab": {}
      },
      "source": [
        "cd /opt/intel/openvino/deployment_tools/demo"
      ],
      "execution_count": 0,
      "outputs": []
    },
    {
      "cell_type": "code",
      "metadata": {
        "id": "8CF8kREclwEv",
        "colab_type": "code",
        "colab": {}
      },
      "source": [
        "!sudo ./demo_squeezenet_download_convert_run.sh"
      ],
      "execution_count": 0,
      "outputs": []
    },
    {
      "cell_type": "code",
      "metadata": {
        "id": "IE-ONwrtmDK9",
        "colab_type": "code",
        "colab": {}
      },
      "source": [
        "!sudo ./demo_security_barrier_camera.sh"
      ],
      "execution_count": 0,
      "outputs": []
    },
    {
      "cell_type": "code",
      "metadata": {
        "id": "WdCY2RhjnX8q",
        "colab_type": "code",
        "colab": {}
      },
      "source": [
        ""
      ],
      "execution_count": 0,
      "outputs": []
    }
  ]
}