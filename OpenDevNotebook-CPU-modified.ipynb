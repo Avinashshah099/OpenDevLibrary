{
  "nbformat": 4,
  "nbformat_minor": 0,
  "metadata": {
    "colab": {
      "name": "OpenVINO-ColabNotebook.ipynb",
      "provenance": [],
      "collapsed_sections": []
    },
    "kernelspec": {
      "name": "python3",
      "display_name": "Python 3"
    },
    "accelerator": "GPU"
  },
  "cells": [
    {
      "cell_type": "code",
      "metadata": {
        "id": "r3GojvB1rfxG",
        "colab_type": "code",
        "colab": {}
      },
      "source": [
        "#Defining the Important Paths\n",
        "\n",
        "file_name = \"l_openvino_toolkit_p_2020.1.023.tgz\" #change the filename if version does not match\n",
        "dir_name = file_name[:-4]\n",
        "install_dir = \"/opt/intel/openvino/\"\n",
        "deployment_tools = install_dir+\"deployment_tools/\"\n",
        "model_optimizer = install_dir+\"deployment_tools/model_optimizer/\"\n",
        "model_zoo = deployment_tools+\"open_model_zoo/\""
      ],
      "execution_count": 0,
      "outputs": []
    },
    {
      "cell_type": "code",
      "metadata": {
        "id": "rh4rY0AOQkfI",
        "colab_type": "code",
        "colab": {}
      },
      "source": [
        "!wget \"https://storage.googleapis.com/open_vino_public/l_openvino_toolkit_p_2020.1.023.tgz\""
      ],
      "execution_count": 0,
      "outputs": []
    },
    {
      "cell_type": "code",
      "metadata": {
        "id": "cJ9jN-B7wk-7",
        "colab_type": "code",
        "colab": {}
      },
      "source": [
        "!tar -xzf l_openvino_toolkit_p_2020.1.023.tgz\n",
        "!sudo -E $dir_name/install_openvino_dependencies.sh\n",
        "!sed -i 's/decline/accept/g' $dir_name/silent.cfg\n",
        "!sed -i 's/#INTEL_SW_IMPROVEMENT/INTEL_SW_IMPROVEMENT/g' $dir_name/silent.cfg\n",
        "!sudo ./$dir_name/install.sh --silent $dir_name/silent.cfg\n",
        "!sudo -E $install_dir/install_dependencies/install_openvino_dependencies.sh\n",
        "!source $install_dir/bin/setupvars.sh"
      ],
      "execution_count": 0,
      "outputs": []
    },
    {
      "cell_type": "code",
      "metadata": {
        "id": "Eys3tefjlMjc",
        "colab_type": "code",
        "colab": {}
      },
      "source": [
        "frameworks = ['tf','mxnet','onnx','kaldi','all']\n",
        "choices = dict(zip(range(1,6),frameworks))\n",
        "print(\"\"\"Please enter the Choice of framework you want to work with:\n",
        "\\n(Note: You should only install for the ones you would be using.\n",
        "Incase of needing to install for more than one but not all, rerun this cell and \n",
        "install the pre-requisites one by one.)\n",
        "\"\"\")\n",
        "for x in choices:\n",
        "  print(x,choices[x])\n",
        "choice = eval(input(\"Please enter your choice: \"))\n",
        "print(\"Choice is\",choice,\":\",choices[choice])\n",
        "if choice != 5:\n",
        "   pre_install = model_optimizer + \"install_prerequisites/install_prerequisites.sh \"+choices[choice]\n",
        "   !sudo $pre_install\n",
        "elif choice == 5:\n",
        "  # for x in choices:\n",
        "  #   pre_install = model_optimizer + \"install_prerequisites/install_prerequisites.sh \"+choices[x]\n",
        "  #   !sudo $pre_install\n",
        "   !sudo $model_optimizer/install_prerequisites/install_prerequisites.sh\n",
        "else:\n",
        "  print(\"Wrong Choice! Please rerun this cell and enter the correct choice!\")"
      ],
      "execution_count": 0,
      "outputs": []
    },
    {
      "cell_type": "code",
      "metadata": {
        "id": "BB11uWn6ldNp",
        "colab_type": "code",
        "colab": {}
      },
      "source": [
        "!sudo $deployment_tools/demo/demo_squeezenet_download_convert_run.sh"
      ],
      "execution_count": 0,
      "outputs": []
    }
  ]
}