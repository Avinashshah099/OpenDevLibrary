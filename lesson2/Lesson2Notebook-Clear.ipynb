{
  "nbformat": 4,
  "nbformat_minor": 0,
  "metadata": {
    "colab": {
      "name": "Lesson2Notebook.ipynb",
      "provenance": [],
      "collapsed_sections": [
        "BLC26D2ZeGeU",
        "R5MJdRk5clB_",
        "fRr1cc_0eiEl"
      ]
    },
    "kernelspec": {
      "name": "python3",
      "display_name": "Python 3"
    },
    "accelerator": "GPU"
  },
  "cells": [
    {
      "cell_type": "code",
      "metadata": {
        "id": "RGzxQmczbLQ5",
        "colab_type": "code",
        "colab": {}
      },
      "source": [
        "from google.colab import drive\n",
        "drive.mount('/content/drive')\n"
      ],
      "execution_count": 0,
      "outputs": []
    },
    {
      "cell_type": "markdown",
      "metadata": {
        "id": "BLC26D2ZeGeU",
        "colab_type": "text"
      },
      "source": [
        "# Imports"
      ]
    },
    {
      "cell_type": "code",
      "metadata": {
        "id": "_5iuIytuOlQC",
        "colab_type": "code",
        "colab": {}
      },
      "source": [
        "!apt update\n",
        "!apt install pciutils apt-file libcairo2-dev libpango1.0-dev libgtk2.0-dev\n",
        "!pip install imgaug==0.2.6\n",
        "!/usr/bin/lspci\n",
        "!cat /proc/cpuinfo\n",
        "!cat /proc/meminfo\n",
        "!nvidia-smi"
      ],
      "execution_count": 0,
      "outputs": []
    },
    {
      "cell_type": "code",
      "metadata": {
        "id": "D-3nucLcN0i3",
        "colab_type": "code",
        "colab": {}
      },
      "source": [
        "openvino_path = \"/content/drive/My Drive/openvino/l_openvino_toolkit_p_2019.3.376.tgz\" "
      ],
      "execution_count": 0,
      "outputs": []
    },
    {
      "cell_type": "code",
      "metadata": {
        "id": "p4ysLTWJ_IJt",
        "colab_type": "code",
        "colab": {}
      },
      "source": [
        "!tar -xvzf \"{openvino_path}\" &&\\\n",
        "    cd l_openvino_toolkit_p* && \\\n",
        "    ./install_openvino_dependencies.sh &&\\\n",
        "    sed -i 's/decline/accept/g' silent.cfg && \\\n",
        "    ./install.sh --silent silent.cfg  && \\\n",
        "    !source /opt/intel/openvino/bin/setupvars.sh &&\\\n",
        "!/opt/intel/openvino/deployment_tools/model_optimizer/install_prerequisites/install_prerequisites.sh \n",
        "!/opt/intel/openvino/deployment_tools/model_optimizer/install_prerequisites/install_prerequisites_caffe.sh \n",
        "!/opt/intel/openvino/deployment_tools/model_optimizer/install_prerequisites/install_prerequisites_onnx.sh \n",
        "!/opt/intel/openvino/deployment_tools/model_optimizer/install_prerequisites/install_prerequisites_kaldi.sh \n",
        "!/opt/intel/openvino/deployment_tools/model_optimizer/install_prerequisites/install_prerequisites_mxnet.sh \n",
        "\n",
        "!/opt/intel/openvino/deployment_tools/demo/demo_squeezenet_download_convert_run.sh"
      ],
      "execution_count": 0,
      "outputs": []
    },
    {
      "cell_type": "markdown",
      "metadata": {
        "id": "37h6Rxhoavak",
        "colab_type": "text"
      },
      "source": [
        "# Choosing Models and Downloading them\n",
        "\n",
        "-  Running downloader.py without `--name` and `--precisions` will download all available pre-trained models. \\\n",
        "\n",
        "- The directory in which the models will be downloaded is `/home/workspace/intel/` \\\n",
        "\n",
        "- Using the -o argument to specify your output directory\n",
        "\n",
        "- \n",
        "\n",
        "[Human Pose Estimation](https://docs.openvinotoolkit.org/latest/_models_intel_human_pose_estimation_0001_description_human_pose_estimation_0001.html)\n",
        "\n",
        "[Text Detection](http://docs.openvinotoolkit.org/latest/_models_intel_text_detection_0004_description_text_detection_0004.html)\n",
        "\n",
        "[Determining Car Type & Color](https://docs.openvinotoolkit.org/latest/_models_intel_vehicle_attributes_recognition_barrier_0039_description_vehicle_attributes_recognition_barrier_0039.html)"
      ]
    },
    {
      "cell_type": "code",
      "metadata": {
        "id": "WdCY2RhjnX8q",
        "colab_type": "code",
        "colab": {}
      },
      "source": [
        "# Moving into the downloader folder \n",
        "cd /opt/intel/openvino/deployment_tools/open_model_zoo/tools/downloader"
      ],
      "execution_count": 0,
      "outputs": []
    },
    {
      "cell_type": "code",
      "metadata": {
        "id": "DZdUA8jeQ88P",
        "colab_type": "code",
        "colab": {}
      },
      "source": [
        "# downloading the Human Pose Estimation Model\n",
        "!sudo ./downloader.py --name human-pose-estimation-0001 -o /content/drive/'My Drive'/openvino/lesson2/home/workspace/models/"
      ],
      "execution_count": 0,
      "outputs": []
    },
    {
      "cell_type": "code",
      "metadata": {
        "id": "MxnDqjpMYPqu",
        "colab_type": "code",
        "colab": {}
      },
      "source": [
        "# downloading the Text Detection Model\n",
        "!sudo ./downloader.py --name text-detection-0004 --precisions FP16 -o /content/drive/'My Drive'/openvino/lesson2/home/workspace/models/"
      ],
      "execution_count": 0,
      "outputs": []
    },
    {
      "cell_type": "code",
      "metadata": {
        "id": "Ixn-HO7NYR88",
        "colab_type": "code",
        "colab": {}
      },
      "source": [
        "# downloading the Vehicle Attributes Model\n",
        "!sudo ./downloader.py --name vehicle-attributes-recognition-barrier-0039 --precisions INT8 -o /content/drive/'My Drive'/openvino/lesson2/home/workspace/models/"
      ],
      "execution_count": 0,
      "outputs": []
    },
    {
      "cell_type": "code",
      "metadata": {
        "id": "Gzp2sWQwYK5p",
        "colab_type": "code",
        "colab": {}
      },
      "source": [
        "# downloading the Semantic Segmentation Model\n",
        "!sudo ./downloader.py --name semantic-segmentation-adas-0001 -o /content/drive/'My Drive'/openvino/lesson2/home/workspace/models/"
      ],
      "execution_count": 0,
      "outputs": []
    },
    {
      "cell_type": "code",
      "metadata": {
        "id": "g1adN95XPQzv",
        "colab_type": "code",
        "colab": {}
      },
      "source": [
        "cd /content/drive/'My Drive'/openvino/lesson2/home/workspace/ "
      ],
      "execution_count": 0,
      "outputs": []
    },
    {
      "cell_type": "code",
      "metadata": {
        "id": "r1bftE52LdjK",
        "colab_type": "code",
        "colab": {}
      },
      "source": [
        "!source /opt/intel/openvino/bin/setupvars.sh && python test.py"
      ],
      "execution_count": 0,
      "outputs": []
    },
    {
      "cell_type": "code",
      "metadata": {
        "id": "EkhBhlcaZDyU",
        "colab_type": "code",
        "colab": {}
      },
      "source": [
        "!source /opt/intel/openvino/bin/setupvars.sh && python app.py -i \"images/blue-car.jpg\" -t \"CAR_META\" -m \"/content/drive/My Drive/openvino/lesson2/home/workspace/models/intel/vehicle-attributes-recognition-barrier-0039/INT8/vehicle-attributes-recognition-barrier-0039.xml\" -c \"/opt/intel/openvino/deployment_tools/inference_engine/lib/intel64/libcpu_extension_sse4.so\""
      ],
      "execution_count": 0,
      "outputs": []
    },
    {
      "cell_type": "markdown",
      "metadata": {
        "id": "fRr1cc_0eiEl",
        "colab_type": "text"
      },
      "source": [
        "# Output Code"
      ]
    },
    {
      "cell_type": "code",
      "metadata": {
        "id": "ABE_ti74dUe4",
        "colab_type": "code",
        "colab": {}
      },
      "source": [
        "cd /content/drive/'My Drive'/openvino/lesson2/home/workspace/outputs/"
      ],
      "execution_count": 0,
      "outputs": []
    },
    {
      "cell_type": "code",
      "metadata": {
        "id": "RdJ1RNyLSwKW",
        "colab_type": "code",
        "colab": {}
      },
      "source": [
        "#!curl -o car.png\n",
        "from google.colab.patches import cv2_imshow\n",
        "import cv2\n",
        "\n",
        "img = cv2.imread(\"CAR_META-output.png\", cv2.IMREAD_UNCHANGED)\n",
        "cv2_imshow(img)"
      ],
      "execution_count": 0,
      "outputs": []
    },
    {
      "cell_type": "code",
      "metadata": {
        "id": "LuQ9D3qATS-W",
        "colab_type": "code",
        "colab": {}
      },
      "source": [
        ""
      ],
      "execution_count": 0,
      "outputs": []
    }
  ]
}