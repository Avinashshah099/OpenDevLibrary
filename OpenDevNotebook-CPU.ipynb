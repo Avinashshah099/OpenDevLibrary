{
  "nbformat": 4,
  "nbformat_minor": 0,
  "metadata": {
    "colab": {
      "name": "OpenVINO-ColabNotebook.ipynb",
      "provenance": [],
      "collapsed_sections": []
    },
    "kernelspec": {
      "name": "python3",
      "display_name": "Python 3"
    }
  },
  "cells": [
    {
      "cell_type": "code",
      "metadata": {
        "id": "RGzxQmczbLQ5",
        "colab_type": "code",
        "colab": {}
      },
      "source": [
        "from google.colab import drive\n",
        "drive.mount('/content/drive')\n"
      ],
      "execution_count": 0,
      "outputs": []
    },
    {
      "cell_type": "code",
      "metadata": {
        "id": "SGboDSyXb-uM",
        "colab_type": "code",
        "colab": {}
      },
      "source": [
        "cd/content/drive/'My Drive'/openvino"
      ],
      "execution_count": 0,
      "outputs": []
    },
    {
      "cell_type": "code",
      "metadata": {
        "id": "NwstmCj6cBJp",
        "colab_type": "code",
        "colab": {}
      },
      "source": [
        "ls"
      ],
      "execution_count": 0,
      "outputs": []
    },
    {
      "cell_type": "code",
      "metadata": {
        "id": "p4ysLTWJ_IJt",
        "colab_type": "code",
        "colab": {}
      },
      "source": [
        "!tar -xvzf l_openvino_toolkit_p_2019.3.376.tgz"
      ],
      "execution_count": 0,
      "outputs": []
    },
    {
      "cell_type": "code",
      "metadata": {
        "id": "sdC6r3RwWR9D",
        "colab_type": "code",
        "colab": {}
      },
      "source": [
        "cd l_openvino_toolkit_p_2019.3.376"
      ],
      "execution_count": 0,
      "outputs": []
    },
    {
      "cell_type": "code",
      "metadata": {
        "id": "aNML7VEsjKGa",
        "colab_type": "code",
        "colab": {}
      },
      "source": [
        "cd /opt/intel/openvino/install_dependencies"
      ],
      "execution_count": 0,
      "outputs": []
    },
    {
      "cell_type": "code",
      "metadata": {
        "id": "_nr7s6nlXjAQ",
        "colab_type": "code",
        "colab": {}
      },
      "source": [
        "!sudo -E ./install_openvino_dependencies.sh\n"
      ],
      "execution_count": 0,
      "outputs": []
    },
    {
      "cell_type": "code",
      "metadata": {
        "id": "nwvSYhq7Xd9Q",
        "colab_type": "code",
        "colab": {}
      },
      "source": [
        "!sudo ./install.sh"
      ],
      "execution_count": 0,
      "outputs": []
    },
    {
      "cell_type": "code",
      "metadata": {
        "id": "zBB1gSb_X5lO",
        "colab_type": "code",
        "colab": {}
      },
      "source": [
        "!source /opt/intel/openvino/bin/setupvars.sh"
      ],
      "execution_count": 0,
      "outputs": []
    },
    {
      "cell_type": "code",
      "metadata": {
        "id": "VbRHDO9okoWk",
        "colab_type": "code",
        "colab": {}
      },
      "source": [
        "cd /opt/intel/openvino/deployment_tools/model_optimizer/install_prerequisites"
      ],
      "execution_count": 0,
      "outputs": []
    },
    {
      "cell_type": "code",
      "metadata": {
        "id": "7R0gf21AkuYR",
        "colab_type": "code",
        "colab": {}
      },
      "source": [
        "!sudo ./install_prerequisites.sh"
      ],
      "execution_count": 0,
      "outputs": []
    },
    {
      "cell_type": "code",
      "metadata": {
        "id": "osBTX5gokxXb",
        "colab_type": "code",
        "colab": {}
      },
      "source": [
        "cd /opt/intel/openvino/deployment_tools/model_optimizer/install_prerequisites"
      ],
      "execution_count": 0,
      "outputs": []
    },
    {
      "cell_type": "code",
      "metadata": {
        "id": "Eys3tefjlMjc",
        "colab_type": "code",
        "colab": {}
      },
      "source": [
        "!sudo ./install_prerequisites_caffe.sh"
      ],
      "execution_count": 0,
      "outputs": []
    },
    {
      "cell_type": "code",
      "metadata": {
        "id": "Gq8_f-gclPoK",
        "colab_type": "code",
        "colab": {}
      },
      "source": [
        "!sudo ./install_prerequisites_tf.sh"
      ],
      "execution_count": 0,
      "outputs": []
    },
    {
      "cell_type": "code",
      "metadata": {
        "id": "fz3w-7aDlUg8",
        "colab_type": "code",
        "colab": {}
      },
      "source": [
        "!sudo ./install_prerequisites_mxnet.sh"
      ],
      "execution_count": 0,
      "outputs": []
    },
    {
      "cell_type": "code",
      "metadata": {
        "id": "AhMM20iwlW_Z",
        "colab_type": "code",
        "colab": {}
      },
      "source": [
        "!sudo ./install_prerequisites_onnx.sh"
      ],
      "execution_count": 0,
      "outputs": []
    },
    {
      "cell_type": "code",
      "metadata": {
        "id": "EHCfY__LlZT4",
        "colab_type": "code",
        "colab": {}
      },
      "source": [
        "!sudo ./install_prerequisites_kaldi.sh"
      ],
      "execution_count": 0,
      "outputs": []
    },
    {
      "cell_type": "code",
      "metadata": {
        "id": "BB11uWn6ldNp",
        "colab_type": "code",
        "colab": {}
      },
      "source": [
        "cd /opt/intel/openvino/deployment_tools/demo"
      ],
      "execution_count": 0,
      "outputs": []
    },
    {
      "cell_type": "code",
      "metadata": {
        "id": "8CF8kREclwEv",
        "colab_type": "code",
        "colab": {}
      },
      "source": [
        "!sudo ./demo_squeezenet_download_convert_run.sh"
      ],
      "execution_count": 0,
      "outputs": []
    },
    {
      "cell_type": "code",
      "metadata": {
        "id": "IE-ONwrtmDK9",
        "colab_type": "code",
        "colab": {}
      },
      "source": [
        "!sudo ./demo_security_barrier_camera.sh"
      ],
      "execution_count": 0,
      "outputs": []
    },
    {
      "cell_type": "code",
      "metadata": {
        "id": "WdCY2RhjnX8q",
        "colab_type": "code",
        "colab": {}
      },
      "source": [
        ""
      ],
      "execution_count": 0,
      "outputs": []
    }
  ]
}